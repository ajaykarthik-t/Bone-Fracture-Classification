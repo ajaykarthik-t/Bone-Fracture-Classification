{
 "cells": [
  {
   "cell_type": "code",
   "execution_count": 11,
   "id": "43b2f7b7-6ae4-4768-8dda-ad9321b41269",
   "metadata": {},
   "outputs": [
    {
     "data": {
      "application/vnd.jupyter.widget-view+json": {
       "model_id": "2bfa042c45b748738ac07e323f09fff5",
       "version_major": 2,
       "version_minor": 0
      },
      "text/plain": [
       "FileUpload(value=(), accept='image/*', description='Upload')"
      ]
     },
     "metadata": {},
     "output_type": "display_data"
    }
   ],
   "source": [
    "import os\n",
    "from PIL import Image\n",
    "import ipywidgets as widgets\n",
    "from IPython.display import display, clear_output\n",
    "from predictions import predict  # Assuming this is the correct import for the predict function\n",
    "\n",
    "# Global variable to store the uploaded filename\n",
    "filename = \"\"  # This will store the uploaded image path\n",
    "\n",
    "# Function to handle image upload\n",
    "def handle_upload(change):\n",
    "    global filename\n",
    "    uploaded_image = change['new']\n",
    "    \n",
    "    # Check if an image is uploaded\n",
    "    if uploaded_image:\n",
    "        # Get the uploaded image filename and data\n",
    "        filename = list(uploaded_image.keys())[0]\n",
    "        image_data = uploaded_image[filename]\n",
    "        \n",
    "        # Save the uploaded file temporarily\n",
    "        with open(filename, 'wb') as f:\n",
    "            f.write(image_data)\n",
    "        \n",
    "        # Debug: Print out the filename and confirm the upload\n",
    "        print(f\"Image uploaded: {filename}\")\n",
    "        \n",
    "        # Display the uploaded image\n",
    "        img = Image.open(filename)\n",
    "        img.show()\n",
    "\n",
    "        # Trigger prediction after the upload\n",
    "        predict_gui()\n",
    "    else:\n",
    "        print(\"No file uploaded.\")\n",
    "\n",
    "# Function to run prediction and display the result\n",
    "def predict_gui():\n",
    "    global filename\n",
    "    if not filename:\n",
    "        print(\"No image uploaded.\")\n",
    "        return\n",
    "    \n",
    "    # Debug: Print to verify filename is correct\n",
    "    print(f\"Running prediction on: {filename}\")\n",
    "    \n",
    "    try:\n",
    "        # Ensure predict function is working correctly\n",
    "        bone_type_result = predict(filename)  # Assuming it takes a file path\n",
    "        result = predict(filename, bone_type_result)  # Run prediction based on bone type\n",
    "        \n",
    "        # Debug: Verify that prediction result is being returned\n",
    "        print(f\"Prediction result: {result}\")\n",
    "        \n",
    "        # Display the prediction results in the notebook\n",
    "        clear_output(wait=True)\n",
    "        \n",
    "        # Check if the result is 'fractured' or 'normal'\n",
    "        if result == 'fractured':\n",
    "            print(\"Result: Fractured\")\n",
    "        else:\n",
    "            print(\"Result: Normal\")\n",
    "        \n",
    "        # Display the bone type result from the prediction\n",
    "        bone_type_result = predict(filename, \"Parts\")\n",
    "        print(f\"Bone Type: {bone_type_result}\")\n",
    "    except Exception as e:\n",
    "        print(f\"Error during prediction: {str(e)}\")\n",
    "\n",
    "# Create a button to upload the image file\n",
    "upload_button = widgets.FileUpload(accept='image/*', multiple=False)\n",
    "upload_button.observe(handle_upload, names='value')\n",
    "\n",
    "# Display the upload button in the notebook\n",
    "display(upload_button)\n"
   ]
  },
  {
   "cell_type": "code",
   "execution_count": null,
   "id": "f8deab31-eec0-4bbb-84f3-5f7731e39f71",
   "metadata": {},
   "outputs": [],
   "source": []
  },
  {
   "cell_type": "code",
   "execution_count": null,
   "id": "e6bd2c2c-f04b-4e2e-8bf6-84a971cc51bc",
   "metadata": {},
   "outputs": [],
   "source": []
  }
 ],
 "metadata": {
  "kernelspec": {
   "display_name": "Python 3 (ipykernel)",
   "language": "python",
   "name": "python3"
  },
  "language_info": {
   "codemirror_mode": {
    "name": "ipython",
    "version": 3
   },
   "file_extension": ".py",
   "mimetype": "text/x-python",
   "name": "python",
   "nbconvert_exporter": "python",
   "pygments_lexer": "ipython3",
   "version": "3.10.14"
  }
 },
 "nbformat": 4,
 "nbformat_minor": 5
}
